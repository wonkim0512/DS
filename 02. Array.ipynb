{
 "cells": [
  {
   "cell_type": "markdown",
   "metadata": {},
   "source": [
    "# Array"
   ]
  },
  {
   "cell_type": "code",
   "execution_count": 1,
   "metadata": {
    "collapsed": true
   },
   "outputs": [],
   "source": [
    "import ctypes"
   ]
  },
  {
   "cell_type": "code",
   "execution_count": 7,
   "metadata": {},
   "outputs": [
    {
     "name": "stdout",
     "output_type": "stream",
     "text": [
      "5\n",
      "5\n",
      "1\n",
      "None\n",
      "None\n",
      "None\n",
      "7\n"
     ]
    }
   ],
   "source": [
    "class Array(object):\n",
    "    \n",
    "    def __init__(self, size):\n",
    "        assert size > 0, \"Array size must be > 0\"\n",
    "        self._size = size\n",
    "        PyArrayType = ctypes.py_object * size\n",
    "        self._elements = PyArrayType()\n",
    "        self.clear(None)\n",
    "        \n",
    "    def __len__(self):\n",
    "        return self._size\n",
    "    \n",
    "    def __getitem__(self, index):\n",
    "        assert index >= 0 and index < self._size, \"Array subscript out of range!\"\n",
    "        return self._elements[index]\n",
    "    \n",
    "    def __setitem__(self, index, value):\n",
    "        assert index >= 0 and index < self._size, \"Array subscript out of range!\"\n",
    "        self._elements[index] = value\n",
    "        \n",
    "    def clear(self, value):\n",
    "        for idx in range(self._size):\n",
    "            self._elements[idx] = value\n",
    "            \n",
    "    def __iter__(self):\n",
    "        return _ArrayIterator(self._elements)\n",
    "        \n",
    "class _ArrayIterator(object):\n",
    "    def __init__(self, Iterable):\n",
    "        self._arrayRef  = Iterable\n",
    "        self._curNdx = 0\n",
    "        \n",
    "    def __iter__(self):\n",
    "        return self\n",
    "    \n",
    "    def __next__(self):\n",
    "        if self._curNdx < len(self._arrayRef):\n",
    "            entry = self._arrayRef[self._curNdx]\n",
    "            self._curNdx += 1\n",
    "            return entry\n",
    "        \n",
    "        else:\n",
    "            raise StopIteration\n",
    "\n",
    "if __name__ == \"__main__\":\n",
    "    array = Array(5)\n",
    "    print(len(array))\n",
    "    array[0] = 1\n",
    "    array[4] = 7\n",
    "    print(len(array))\n",
    "    it = iter(array)\n",
    "    for i in range(len(array)):\n",
    "        print(next(it))"
   ]
  }
 ],
 "metadata": {
  "kernelspec": {
   "display_name": "Python 3",
   "language": "python",
   "name": "python3"
  },
  "language_info": {
   "codemirror_mode": {
    "name": "ipython",
    "version": 3
   },
   "file_extension": ".py",
   "mimetype": "text/x-python",
   "name": "python",
   "nbconvert_exporter": "python",
   "pygments_lexer": "ipython3",
   "version": "3.6.1"
  }
 },
 "nbformat": 4,
 "nbformat_minor": 2
}
