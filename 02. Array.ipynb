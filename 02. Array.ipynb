{
 "cells": [
  {
   "cell_type": "markdown",
   "metadata": {},
   "source": [
    "# Array\n",
    "\n",
    "### 2.1 The Array Structure\n",
    "At the hardware level, most computer architectures provide a mechanism for creating and using one-dimensional arrays. A one-dimensional array is composed of multiple sequential elements stored in contiguous bytes of memory and allows for random access to the individual elements."
   ]
  },
  {
   "cell_type": "markdown",
   "metadata": {},
   "source": [
    "Although the array looks similar to Python's list structure, there are two major differences between the array and the list.\n",
    "1. An array has a limited number of operations, which commonly include those for array creation.\n",
    "2. The list can grow and shrink during execution as elements are added or removed while the size of an array cannot be changed after it has been created."
   ]
  },
  {
   "cell_type": "markdown",
   "metadata": {},
   "source": [
    "While Python does not provide the array structure as part of the language itself, it now includes the **ctype** moudle that provides access to the diverse set of data types available in the C language and the complete functionality provdied by a wide range of C libraries."
   ]
  },
  {
   "cell_type": "code",
   "execution_count": 1,
   "metadata": {
    "collapsed": true
   },
   "outputs": [],
   "source": [
    "import ctypes"
   ]
  },
  {
   "cell_type": "code",
   "execution_count": 2,
   "metadata": {
    "scrolled": false
   },
   "outputs": [
    {
     "name": "stdout",
     "output_type": "stream",
     "text": [
      "5\n",
      "5\n",
      "1\n",
      "None\n",
      "None\n",
      "None\n",
      "7\n"
     ]
    }
   ],
   "source": [
    "class Array(object):\n",
    "    \n",
    "    def __init__(self, size):\n",
    "        assert size > 0, \"Array size must be > 0\"\n",
    "        self._size = size\n",
    "        PyArrayType = ctypes.py_object * size\n",
    "        self._elements = PyArrayType()\n",
    "        self.clear(None)\n",
    "        \n",
    "    def __len__(self):\n",
    "        return self._size\n",
    "    \n",
    "    def __getitem__(self, index):\n",
    "        assert index >= 0 and index < self._size, \"Array subscript out of range!\"\n",
    "        return self._elements[index]\n",
    "    \n",
    "    def __setitem__(self, index, value):\n",
    "        assert index >= 0 and index < self._size, \"Array subscript out of range!\"\n",
    "        self._elements[index] = value\n",
    "        \n",
    "    def clear(self, value):\n",
    "        for idx in range(self._size):\n",
    "            self._elements[idx] = value\n",
    "            \n",
    "    def __iter__(self):\n",
    "        return _ArrayIterator(self._elements)\n",
    "        \n",
    "class _ArrayIterator(object):\n",
    "    def __init__(self, Iterable):\n",
    "        self._arrayRef  = Iterable\n",
    "        self._curNdx = 0\n",
    "        \n",
    "    def __iter__(self):\n",
    "        return self\n",
    "    \n",
    "    def __next__(self):\n",
    "        if self._curNdx < len(self._arrayRef):\n",
    "            entry = self._arrayRef[self._curNdx]\n",
    "            self._curNdx += 1\n",
    "            return entry\n",
    "        \n",
    "        else:\n",
    "            raise StopIteration\n",
    "\n",
    "if __name__ == \"__main__\":\n",
    "    array = Array(5)\n",
    "    print(len(array))\n",
    "    array[0] = 1\n",
    "    array[4] = 7\n",
    "    print(len(array))\n",
    "    it = iter(array)\n",
    "    for i in range(len(array)):\n",
    "        print(next(it))"
   ]
  },
  {
   "cell_type": "markdown",
   "metadata": {},
   "source": [
    "### 2.2 Two-dimensional array\n",
    "\n",
    "Some problems require the use of a two-dimensional array, which organizes data into rows and columns similar to a table or grid."
   ]
  },
  {
   "cell_type": "code",
   "execution_count": 15,
   "metadata": {},
   "outputs": [
    {
     "name": "stdout",
     "output_type": "stream",
     "text": [
      "3\n",
      "2\n",
      "None\n",
      "7\n"
     ]
    }
   ],
   "source": [
    "class Array2D(object):\n",
    "    \n",
    "    def __init__(self, numRows, numCols):\n",
    "        self._theRows = Array(numRows)\n",
    "        \n",
    "        for idx in range(self.numRows()):\n",
    "            self._theRows[idx] = Array(numCols)\n",
    "            \n",
    "    def numRows(self):\n",
    "        return len(self._theRows)\n",
    "    \n",
    "    def numCols(self):\n",
    "        return len(self._theRows[0])\n",
    "    \n",
    "    def clear(self, value):\n",
    "        for row in range(self.numRows()):\n",
    "            for col in range(self.numCols()):\n",
    "                self._theRows[row][col] = value\n",
    "            \n",
    "    def __getitem__(self, index):\n",
    "        assert len(index) == 2, \"Invalid number of array subscripts\"\n",
    "        row = index[0]\n",
    "        col = index[1]\n",
    "        assert row >= 0 and row < self.numRows() and col >= 0 and col < self.numCols(), \"Array subscripts out of range\"\n",
    "        return self._theRows[row][col]\n",
    "        \n",
    "    def __setitem__(self, index, value):\n",
    "        assert len(index) == 2, \"Invalid number of array subscripts\"\n",
    "        row = index[0]\n",
    "        col = index[1]\n",
    "        assert row >= 0 and row < self.numRows() and col >= 0 and col < self.numCols(), \"Array subscripts out of range\"\n",
    "        self._theRows[row][col] = value\n",
    "        \n",
    "if __name__ == \"__main__\":\n",
    "    array2d = Array2D(3, 2)\n",
    "    array2d.clear(None)\n",
    "    print(array2d.numRows())\n",
    "    print(array2d.numCols())\n",
    "    print(array2d[0, 0])\n",
    "    array2d[0, 0] = 7\n",
    "    print(array2d[0, 0])"
   ]
  }
 ],
 "metadata": {
  "kernelspec": {
   "display_name": "Python 3",
   "language": "python",
   "name": "python3"
  },
  "language_info": {
   "codemirror_mode": {
    "name": "ipython",
    "version": 3
   },
   "file_extension": ".py",
   "mimetype": "text/x-python",
   "name": "python",
   "nbconvert_exporter": "python",
   "pygments_lexer": "ipython3",
   "version": "3.6.1"
  }
 },
 "nbformat": 4,
 "nbformat_minor": 2
}
