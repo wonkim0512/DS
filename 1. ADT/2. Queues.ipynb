{
 "cells": [
  {
   "cell_type": "markdown",
   "metadata": {},
   "source": [
    "## 2. Queues\n",
    "\n",
    "A queue is a structure where the first enqueued element(at the back) will be the first one to be dequeued (when it is at the front), being defined as a *first-in-first-out* (FIFO) structure. You can think of a queue as a line of people waiting for a roller-coaster ride."
   ]
  },
  {
   "cell_type": "markdown",
   "metadata": {},
   "source": [
    "Array access of elements in queues is restricted and queues should have the following operations running at O(1):\n",
    "\n",
    "- enqueue: Insert an item at the back of the queue.\n",
    "- depueue: Remove an item from the front of the queue.\n",
    "- peek/front: Retrieve an item at the front of the queue witout removing it.\n",
    "- empty/size: Check whether the queue is empty or give its size."
   ]
  },
  {
   "cell_type": "markdown",
   "metadata": {},
   "source": [
    "Again, we can write a queue class with Python’s lists. However, this will be very inefficient (because it uses the method insert()):"
   ]
  },
  {
   "cell_type": "code",
   "execution_count": 1,
   "metadata": {},
   "outputs": [
    {
     "name": "stdout",
     "output_type": "stream",
     "text": [
      "Is the queue empty?  Yes, it's empty\n",
      "Adding 0 to 10 in the queue...\n",
      "[9, 8, 7, 6, 5, 4, 3, 2, 1, 0]\n",
      "Queue size:  10\n",
      "Queue peek :  0\n",
      "Dequeue... 0\n",
      "Queue peek:  1\n",
      "Is the queue empty?  Not empty!\n",
      "[9, 8, 7, 6, 5, 4, 3, 2, 1]\n"
     ]
    }
   ],
   "source": [
    "# queue_inefficient\n",
    "\n",
    "class Queue(object):\n",
    "    def __init__(self):\n",
    "        self.items = []\n",
    "        \n",
    "    def isEmpty(self):\n",
    "        return not bool(self.items)\n",
    "    \n",
    "    def enqueue(self, item):\n",
    "        self.items.insert(0, item)\n",
    "        \n",
    "    def dequeue(self):\n",
    "        return self.items.pop()\n",
    "    \n",
    "    def size(self):\n",
    "        return len(self.items)\n",
    "    \n",
    "    def peek(self): \n",
    "        return self.items[-1]\n",
    "    \n",
    "    def __repr__(self):\n",
    "        return \"{}\".format(self.items)\n",
    "    \n",
    "if __name__ == \"__main__\":\n",
    "    queue = Queue()\n",
    "    print(\"Is the queue empty? \", \"Yes, it's empty\" if queue.isEmpty() else \"Not empty!\")\n",
    "    print(\"Adding 0 to 10 in the queue...\")\n",
    "    for i in range(10):\n",
    "        queue.enqueue(i)\n",
    "    \n",
    "    print(queue)\n",
    "    print(\"Queue size: \", queue.size())\n",
    "    print(\"Queue peek : \", queue.peek())\n",
    "    print(\"Dequeue...\", queue.dequeue())\n",
    "    print(\"Queue peek: \", queue.peek())\n",
    "    print(\"Is the queue empty? \", \"Yes, it's empty\" if queue.isEmpty() else \"Not empty!\")\n",
    "    print(queue)"
   ]
  },
  {
   "cell_type": "markdown",
   "metadata": {},
   "source": [
    "A better way would write a queue using two stacks (two lists) instead of one:"
   ]
  },
  {
   "cell_type": "code",
   "execution_count": 2,
   "metadata": {},
   "outputs": [
    {
     "name": "stdout",
     "output_type": "stream",
     "text": [
      "Is the queue empty?  Yes, it's empty\n",
      "Adding 0 to 10 in the queue...\n",
      "[9, 8, 7, 6, 5, 4, 3, 2, 1, 0]\n",
      "Queue size:  10\n",
      "Queue peek :  0\n",
      "Dequeue... 0\n",
      "Queue peek:  1\n",
      "Is the queue empty?  Not empty!\n",
      "Printing the queue...\n",
      "[9, 8, 7, 6, 5, 4, 3, 2, 1]\n"
     ]
    }
   ],
   "source": [
    "# queue\n",
    "\n",
    "class Queue(object):\n",
    "    def __init__(self):\n",
    "        self.in_stack = []\n",
    "        self.out_stack = []\n",
    "        \n",
    "    def _transfer(self):\n",
    "        while self.in_stack:\n",
    "            self.out_stack.append(self.in_stack.pop())\n",
    "            \n",
    "    def enqueue(self, item):\n",
    "        return self.in_stack.append(item)\n",
    "    \n",
    "    def dequeue(self):\n",
    "        if not self.out_stack:\n",
    "            self._transfer()\n",
    "        \n",
    "        if self.out_stack:\n",
    "            return self.out_stack.pop()\n",
    "        \n",
    "        else:\n",
    "            return \"Queue empty!\"\n",
    "        \n",
    "    def size(self):\n",
    "        return len(self.in_stack) + len(self.out_stack)\n",
    "    \n",
    "    def peek(self):\n",
    "        if not self.out_stack:\n",
    "            self._transfer\n",
    "            \n",
    "        if self.out_stack:\n",
    "            return self.out_stack[-1]\n",
    "        \n",
    "        else:\n",
    "            return \"Queue empty!\"\n",
    "        \n",
    "    def isEmpty(self):\n",
    "        return not (bool(self.in_stack) or bool(self.out_stack))\n",
    "        \n",
    "    def __repr__(self):\n",
    "        if not self.out_stack:\n",
    "            self._transfer()\n",
    "            \n",
    "        if self.out_stack:\n",
    "            return \"{}\".format(self.out_stack)\n",
    "        \n",
    "        else:\n",
    "            return \"Queue empty!\"\n",
    "        \n",
    "if __name__ == \"__main__\":\n",
    "    queue = Queue()\n",
    "    print(\"Is the queue empty? \", \"Yes, it's empty\" if queue.isEmpty() else \"Not empty!\")\n",
    "    print(\"Adding 0 to 10 in the queue...\")\n",
    "    for i in range(10):\n",
    "        queue.enqueue(i)\n",
    "    print(queue)\n",
    "    print(\"Queue size: \", queue.size())\n",
    "    print(\"Queue peek : \", queue.peek())\n",
    "    print(\"Dequeue...\", queue.dequeue())\n",
    "    print(\"Queue peek: \", queue.peek())\n",
    "    print(\"Is the queue empty? \", \"Yes, it's empty\" if queue.isEmpty() else \"Not empty!\")\n",
    "    print(\"Printing the queue...\")\n",
    "    print(queue)"
   ]
  },
  {
   "cell_type": "markdown",
   "metadata": {},
   "source": [
    "Another approach is to implement a queue as a container for nodes, as we have done for stacks, but now the nodes are inserted and removed in a FIFO order:"
   ]
  },
  {
   "cell_type": "code",
   "execution_count": 3,
   "metadata": {},
   "outputs": [
    {
     "name": "stdout",
     "output_type": "stream",
     "text": [
      "Is the queue empty?  Yes, it's empty\n",
      "Adding 0 to 10 in the queue...\n",
      "Queue size:  10\n",
      "Queue peek :  0\n",
      "Dequeue... 0\n",
      "Queue peek:  1\n",
      "Is the queue empty?  Not empty!\n",
      "Printing the queue...\n"
     ]
    }
   ],
   "source": [
    "# linked_queue\n",
    "class Node(object):\n",
    "    def __init__(self, value = None, pointer = None):\n",
    "        self.value = value\n",
    "        self.pointer = pointer\n",
    "        \n",
    "class LinkedQueue(object):\n",
    "    def __init__(self):\n",
    "        self.head = None\n",
    "        self.tail = None\n",
    "        \n",
    "    def isEmpty(self):\n",
    "        return not bool(self.head)\n",
    "    \n",
    "    def dequeue(self):\n",
    "        if self.head:\n",
    "            value = self.head.value\n",
    "            self.head = self.head.pointer\n",
    "            return value\n",
    "            \n",
    "        else:\n",
    "            print(\"Cannot dequeue because queue is empty.\")\n",
    "            \n",
    "    def enqueue(self, value):\n",
    "        node = Node(value)\n",
    "        if not self.head:\n",
    "            self.head = node\n",
    "            self.tail = node\n",
    "            \n",
    "        else:\n",
    "            if self.tail:\n",
    "                self.tail.pointer = node\n",
    "            self.tail = node\n",
    "            \n",
    "    def size(self):\n",
    "        node = self.head\n",
    "        num_nodes = 0\n",
    "        while node:\n",
    "            num_nodes += 1\n",
    "            node = node.pointer\n",
    "            \n",
    "        return num_nodes\n",
    "    \n",
    "    def peek(self):\n",
    "        return self.head.value\n",
    "    \n",
    "    def _print(self):\n",
    "        node = self.head\n",
    "        while node:\n",
    "            print(node.value)\n",
    "            node = node.pointer\n",
    "            \n",
    "if __name__ == \"__main__\":\n",
    "    queue = LinkedQueue()\n",
    "    print(\"Is the queue empty? \", \"Yes, it's empty\" if queue.isEmpty() else \"Not empty!\")\n",
    "    print(\"Adding 0 to 10 in the queue...\")\n",
    "    for i in range(10):\n",
    "        queue.enqueue(i)\n",
    "    queue._print\n",
    "    print(\"Queue size: \", queue.size())\n",
    "    print(\"Queue peek : \", queue.peek())\n",
    "    print(\"Dequeue...\", queue.dequeue())\n",
    "    print(\"Queue peek: \", queue.peek())\n",
    "    print(\"Is the queue empty? \", \"Yes, it's empty\" if queue.isEmpty() else \"Not empty!\")\n",
    "    print(\"Printing the queue...\")\n",
    "    queue._print"
   ]
  },
  {
   "cell_type": "markdown",
   "metadata": {},
   "source": [
    "Queues are necessary for breath-first traversal algorithms for graphs."
   ]
  },
  {
   "cell_type": "markdown",
   "metadata": {},
   "source": [
    "### Deques\n",
    "A deque is a double-ended queue, which can roughly be seen as an union of a stack and a queue. Python has an efficient deque implementation, with fast appending and popping from both ends:"
   ]
  },
  {
   "cell_type": "code",
   "execution_count": 4,
   "metadata": {},
   "outputs": [
    {
     "data": {
      "text/plain": [
       "deque(['Irene Choi', 'David', 'Aaron', 'Won Kim'])"
      ]
     },
     "execution_count": 4,
     "metadata": {},
     "output_type": "execute_result"
    }
   ],
   "source": [
    "from collections import deque\n",
    "\n",
    "q = deque(['Won', 'David', 'Aaron'])\n",
    "q.append(\"Irene\") # deque(['Won', 'David', 'Aaron', 'Irene'])\n",
    "q.popleft() # 'Won'\n",
    "q.pop() # 'Irene'\n",
    "q.appendleft(\"Irene Choi\") # deque(['Irene Choi', 'David', 'Aaron'])\n",
    "q.append(\"Won Kim\")\n",
    "q"
   ]
  },
  {
   "cell_type": "markdown",
   "metadata": {},
   "source": [
    "Interestingly, deques in Python are based on a ***doubly linked list***, not in dynamic arrays. It means that operations such as inserting an item anywhere are fast (*O(1)*), but arbitrary index accessing are slow (*O(n)*)."
   ]
  },
  {
   "cell_type": "markdown",
   "metadata": {},
   "source": [
    "## more to think - 2017/08/23\n",
    "- peek의 의미는?\n",
    "> stack과 queue에서 peek의 의미를 잘 모르겠음. 왜냐하면 queue에서 peek면 가장 나중에 들어온 얘여야 하는거 아닌가?\n",
    "\n",
    "- linked stack과 queue의 차이 명확히 하기\n",
    "- linked queue의 enqueue 명확히 하기"
   ]
  }
 ],
 "metadata": {
  "kernelspec": {
   "display_name": "Python 3",
   "language": "python",
   "name": "python3"
  },
  "language_info": {
   "codemirror_mode": {
    "name": "ipython",
    "version": 3
   },
   "file_extension": ".py",
   "mimetype": "text/x-python",
   "name": "python",
   "nbconvert_exporter": "python",
   "pygments_lexer": "ipython3",
   "version": "3.6.1"
  }
 },
 "nbformat": 4,
 "nbformat_minor": 2
}
