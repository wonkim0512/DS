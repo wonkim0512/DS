{
 "cells": [
  {
   "cell_type": "markdown",
   "metadata": {},
   "source": [
    "## 1. Stack\n",
    "\n",
    "A stack is a linear data structure that can be accessed only at one of its ends for either storing or retrieving. You can think\n",
    "of a stack as a huge pile of books on your desk."
   ]
  },
  {
   "cell_type": "markdown",
   "metadata": {},
   "source": [
    "Array access of elements in a stacked is restricted since a stack is a *last-in-first-out* (LIFO) struture. However, stacks have the following operations running at *O(1)*:\n",
    "\n",
    "- push: Insert an item at the top of the stack.\n",
    "- pop: Remove an item from the top of the stack\n",
    "- top/peek: Look up the element on the top.\n",
    "- empty/size: Check whether the stack is empy or return its size."
   ]
  },
  {
   "cell_type": "markdown",
   "metadata": {},
   "source": [
    "Stacks in Python can be implemented with lists and the methods append() and pop():"
   ]
  },
  {
   "cell_type": "code",
   "execution_count": 1,
   "metadata": {},
   "outputs": [
    {
     "name": "stdout",
     "output_type": "stream",
     "text": [
      "6 7\n",
      "7 8\n",
      "8 9\n",
      "9 10\n",
      "10 15\n",
      "19 15\n",
      "18 15\n",
      "17 15\n",
      "16 15\n",
      "15 No min value for empty list\n",
      "Empty list. No min value for empty list\n",
      "Empty list. No min value for empty list\n"
     ]
    }
   ],
   "source": [
    "#Stack\n",
    "class Stack(object):\n",
    "    def __init__(self):\n",
    "        self.content = []\n",
    "        self.min_array = []\n",
    "        self.min = float(\"inf\")\n",
    "        \n",
    "    def push(self, value):\n",
    "        if value < self.min:\n",
    "            self.min = value\n",
    "            \n",
    "        self.content.append(value)\n",
    "        self.min_array.append(self.min)\n",
    "        \n",
    "    def pop(self):\n",
    "        if self.content:\n",
    "            value = self.content.pop()\n",
    "            self.min_array.pop()\n",
    "            \n",
    "            if self.min_array:\n",
    "                self.min = self.min_array[-1]\n",
    "            \n",
    "            return value\n",
    "        \n",
    "        else:\n",
    "            return \"Empty list.\"\n",
    "        \n",
    "    def find_min(self):\n",
    "        if self.min_array:\n",
    "            return self.min_array[-1] \n",
    "        \n",
    "        else:\n",
    "            return \"No min value for empty list\"\n",
    "        \n",
    "    def size(self):\n",
    "        return len(self.content)\n",
    "    \n",
    "    def isEmpty(self):\n",
    "        return not bool(self.content)\n",
    "    \n",
    "    def peek(self):\n",
    "        if self.content:\n",
    "            return self.content[-1]\n",
    "        \n",
    "        else:\n",
    "            print(\"Stack is empty\")\n",
    "        \n",
    "    def __repr__(self):\n",
    "        return \"{}\".format(self.content)\n",
    "\n",
    "if __name__ == \"__main__\":\n",
    "    stack = Stack()\n",
    "    \n",
    "    for i in range(15,20):\n",
    "        stack.push(i)\n",
    "\n",
    "    for i in range(10, 5, -1):\n",
    "        stack.push(i)\n",
    "\n",
    "    for i in range(1, 13):\n",
    "        print(stack.pop(), stack.find_min())"
   ]
  },
  {
   "cell_type": "markdown",
   "metadata": {},
   "source": [
    "Another approach to implement a stack is by thinking of it as a container of nodes (objects) following a LIFO order:"
   ]
  },
  {
   "cell_type": "code",
   "execution_count": 2,
   "metadata": {},
   "outputs": [
    {
     "name": "stdout",
     "output_type": "stream",
     "text": [
      "Is the stack empty?  Yes, it is empty.\n",
      "Adding 0 to 10 in the stack...\n",
      "9\n",
      "8\n",
      "7\n",
      "6\n",
      "5\n",
      "4\n",
      "3\n",
      "2\n",
      "1\n",
      "0\n",
      "Stack size:  10\n",
      "Stack peek :  9\n",
      "Pop... 9\n",
      "Stack peek:  8\n",
      "Is the stack empty?  Not empty!\n",
      "8\n",
      "7\n",
      "6\n",
      "5\n",
      "4\n",
      "3\n",
      "2\n",
      "1\n",
      "0\n"
     ]
    }
   ],
   "source": [
    "#linked_stack\n",
    "\n",
    "class Node(object):\n",
    "    def __init__(self, value = None, pointer = None):\n",
    "        self.value = value\n",
    "        self.pointer = pointer\n",
    "        \n",
    "class Stack(object):\n",
    "    def __init__(self):\n",
    "        self.head = None\n",
    "        \n",
    "    def isEmpty(self):\n",
    "        return not bool(self.head)\n",
    "    \n",
    "    def push(self, item):\n",
    "        self.head = Node(item, self.head)\n",
    "        \n",
    "    def pop(self):\n",
    "        if self.head:\n",
    "            node = self.head\n",
    "            self.head = node.pointer\n",
    "            return node.value\n",
    "        \n",
    "        else:\n",
    "            print(\"Stack is empty.\")\n",
    "            \n",
    "    def peek(self):\n",
    "        if self.head:\n",
    "            return self.head.value\n",
    "        \n",
    "        else:\n",
    "            print(\"Stack is empty.\")\n",
    "            \n",
    "    def size(self):\n",
    "        node = self.head\n",
    "        count = 0\n",
    "        while node:\n",
    "            count += 1\n",
    "            node = node.pointer\n",
    "        return count\n",
    "    \n",
    "    def _printList(self):\n",
    "        node = self.head\n",
    "        while node:\n",
    "            print(node.value)\n",
    "            node = node.pointer\n",
    "            \n",
    "if __name__ == \"__main__\":\n",
    "    stack = Stack()\n",
    "    print(\"Is the stack empty? \", \"Yes, it is empty.\" if stack.isEmpty() else 'Not empty!')\n",
    "    print(\"Adding 0 to 10 in the stack...\")\n",
    "    for i in range(10):\n",
    "        stack.push(i)\n",
    "    stack._printList()\n",
    "    print(\"Stack size: \", stack.size())\n",
    "    print(\"Stack peek : \", stack.peek())\n",
    "    print(\"Pop...\", stack.pop())\n",
    "    print(\"Stack peek: \", stack.peek())\n",
    "    print(\"Is the stack empty? \", \"Yes, it is empty.\" if stack.isEmpty() else 'Not empty!')\n",
    "    stack._printList()"
   ]
  },
  {
   "cell_type": "markdown",
   "metadata": {},
   "source": [
    "Stacks are suitable for depth-first traversal algorithms in graphs."
   ]
  }
 ],
 "metadata": {
  "kernelspec": {
   "display_name": "Python 3",
   "language": "python",
   "name": "python3"
  },
  "language_info": {
   "codemirror_mode": {
    "name": "ipython",
    "version": 3
   },
   "file_extension": ".py",
   "mimetype": "text/x-python",
   "name": "python",
   "nbconvert_exporter": "python",
   "pygments_lexer": "ipython3",
   "version": "3.6.1"
  }
 },
 "nbformat": 4,
 "nbformat_minor": 2
}
