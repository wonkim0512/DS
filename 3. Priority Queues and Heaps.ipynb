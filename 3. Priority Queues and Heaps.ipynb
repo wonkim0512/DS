{
 "cells": [
  {
   "cell_type": "markdown",
   "metadata": {},
   "source": [
    "## 3. Priority Queues and Heaps\n",
    "\n",
    "A ***priority queue*** is an abstract data type which is similar to a regular queue or stack, but where each element has a priority associated with it. If two elements have the same priority, they are served according to their ***order*** in the queue. A sensible implementation of a priority queue is given by a ***heap*** data structure.\n",
    "\n",
    "Queue는 연산의 결과로 먼저 들어간 데이터가 먼저 나오나 Priority Queue는 다르다. 들어간 순서에 상관없이 우선순위가 높은 데이터가 먼저 나온다. 병원 응급실을 예로 들자면, 들어온 순서에 상관없이 제일 응급한 환자부터 치료를 한다고 볼 수 있다. 즉 우선순위가 높은 환자 먼저 치료하는 것이다. 이렇게 Priority Queue에서 중요한 것은 우선순위인데, 이는 데이터를 근거로 판단되며 목적에 맞게 프로그래머가 결정해야 하는 것이다. 이러한 Priority Queue은 heap을 이용하여 구현하는 것이 일반적이다."
   ]
  },
  {
   "cell_type": "markdown",
   "metadata": {},
   "source": [
    "### Heaps\n",
    "\n",
    "A heap is a binary tree where each node is smaller (larger) than\n",
    "its children.\n",
    "\n",
    "Heaps are generally useful for applications that repeatedly access the smallest(largest) element in the list. A min-(max-)heap lets you to find the smallest(largest) element in *O(1)* and to extract/add/replace it in *O\n",
    "(lnn).*\n",
    "\n",
    "*'무엇인가를 차곡차곡 쌓아올린 더미'*라는 뜻의 힙(Heap)이란 자료구조는 특별한 트리를 기본으로 하는 자료구조이다. 여기서 특별한 트리란 완전 이진 트리를 말한다. 힙 자료구조는 최대 힙(Max Heep)과 최소 힙(Min Heep)으로 나뉘며 이는 최대값 또는 최소값을 짧은 시간내에 찾기 위해서 만들어진 자료구조이다. 최대 힙이란 부모 노드의 값이 항상 자식 노드의 값보다 크다는 것이며, 최소 힙은 부모의 값이 항상 자식 노드의 값보다 작다는 것이다. \n",
    "\n",
    "![min-heap and max-heap](http://www.studytonight.com/data-structures/images/heap-property-example.png)\n",
    "\n",
    "- http://blog.eairship.kr/249\n",
    "- http://hannom.tistory.com/36"
   ]
  },
  {
   "cell_type": "markdown",
   "metadata": {},
   "source": [
    "Python implements heaps with the heapq module, which provides functions to insert and remove items while keeping the sequence as a heap. We  can  use  the heapq.heapify(x) method  to  transform  a  list  into  a heap, in-place, and in O(n) time:"
   ]
  },
  {
   "cell_type": "code",
   "execution_count": 1,
   "metadata": {
    "scrolled": false
   },
   "outputs": [
    {
     "data": {
      "text/plain": [
       "['__about__',\n",
       " '__all__',\n",
       " '__builtins__',\n",
       " '__cached__',\n",
       " '__doc__',\n",
       " '__file__',\n",
       " '__loader__',\n",
       " '__name__',\n",
       " '__package__',\n",
       " '__spec__',\n",
       " '_heapify_max',\n",
       " '_heappop_max',\n",
       " '_heapreplace_max',\n",
       " '_siftdown',\n",
       " '_siftdown_max',\n",
       " '_siftup',\n",
       " '_siftup_max',\n",
       " 'heapify',\n",
       " 'heappop',\n",
       " 'heappush',\n",
       " 'heappushpop',\n",
       " 'heapreplace',\n",
       " 'merge',\n",
       " 'nlargest',\n",
       " 'nsmallest']"
      ]
     },
     "execution_count": 1,
     "metadata": {},
     "output_type": "execute_result"
    }
   ],
   "source": [
    "import heapq\n",
    "\n",
    "dir(heapq)"
   ]
  },
  {
   "cell_type": "code",
   "execution_count": 2,
   "metadata": {},
   "outputs": [
    {
     "data": {
      "text/plain": [
       "[1, 4, 8, 6]"
      ]
     },
     "execution_count": 2,
     "metadata": {},
     "output_type": "execute_result"
    }
   ],
   "source": [
    "l = [4, 6, 8, 1]\n",
    "heapq.heapify(l)\n",
    "l"
   ]
  },
  {
   "cell_type": "markdown",
   "metadata": {},
   "source": [
    "Once we have a heap, the ***heapq.heappush(heap, item)*** method is used to push the item onto it:"
   ]
  },
  {
   "cell_type": "code",
   "execution_count": 3,
   "metadata": {},
   "outputs": [
    {
     "name": "stdout",
     "output_type": "stream",
     "text": [
      "[(1, 'food'), (2, 'have fun')]\n",
      "[(1, 'food'), (2, 'have fun'), (3, 'work'), (4, 'study')]\n"
     ]
    }
   ],
   "source": [
    "h = []\n",
    "heapq.heappush(h, (1, 'food'))\n",
    "heapq.heappush(h, (2, 'have fun'))\n",
    "print(h)\n",
    "heapq.heappush(h, (3, 'work'))\n",
    "heapq.heappush(h, (4, 'study'))\n",
    "print(h)"
   ]
  },
  {
   "cell_type": "markdown",
   "metadata": {},
   "source": [
    "The method ***heapq.heappop(heap)*** is used to pop and return the smallest item from the heap:"
   ]
  },
  {
   "cell_type": "code",
   "execution_count": 4,
   "metadata": {},
   "outputs": [
    {
     "data": {
      "text/plain": [
       "[(2, 'have fun'), (4, 'study'), (3, 'work')]"
      ]
     },
     "execution_count": 4,
     "metadata": {},
     "output_type": "execute_result"
    }
   ],
   "source": [
    "heapq.heappop(h)\n",
    "h"
   ]
  },
  {
   "cell_type": "markdown",
   "metadata": {},
   "source": [
    "In a similar way, ***heapq.hreapreplace(heap, item)*** will pop and return the smallest item from the heap, and then push the new item.\n"
   ]
  },
  {
   "cell_type": "code",
   "execution_count": 5,
   "metadata": {},
   "outputs": [
    {
     "name": "stdout",
     "output_type": "stream",
     "text": [
      "[(3, 'work'), (4, 'study'), (10, 'soccer')]\n"
     ]
    }
   ],
   "source": [
    "heapq.heapreplace(h, (10, \"soccer\"))\n",
    "print(h)"
   ]
  },
  {
   "cell_type": "markdown",
   "metadata": {},
   "source": [
    "Several ohter operations are available with a heap properties."
   ]
  },
  {
   "cell_type": "code",
   "execution_count": 6,
   "metadata": {
    "scrolled": true
   },
   "outputs": [
    {
     "name": "stdout",
     "output_type": "stream",
     "text": [
      "1\n",
      "2\n",
      "3\n",
      "4\n",
      "5\n",
      "6\n",
      "8\n",
      "9\n"
     ]
    }
   ],
   "source": [
    "for x in heapq.merge([1,3,5,9], [2,4,6,8]):\n",
    "    print(x, end = \"\\n\")"
   ]
  },
  {
   "cell_type": "markdown",
   "metadata": {},
   "source": [
    "Finally, the methods ***heapq.nlargest(n, iterable[, key])*** and ***heapq.nlargest(n, iterable[, key])*** will return a list with n largest and smallest elements from the dataset defined by iterable."
   ]
  },
  {
   "cell_type": "markdown",
   "metadata": {},
   "source": [
    "# 아래쪽 구현 부분을 아직 이해하지 못했음 - 20170823"
   ]
  },
  {
   "cell_type": "markdown",
   "metadata": {},
   "source": [
    "### A Class for a Heap"
   ]
  },
  {
   "cell_type": "code",
   "execution_count": 9,
   "metadata": {
    "collapsed": true
   },
   "outputs": [],
   "source": [
    "# heapify.py\n",
    "\n",
    "class Heapify(object):\n",
    "    def __init__(self, data = None):\n",
    "        self.data = data or []\n",
    "        for i in range(len(data)//2, -1, -1):\n",
    "            self.__max_heapify__(i)\n",
    "            \n",
    "    def __repr__(self):\n",
    "        return \"{}\".format(self.data)\n",
    "    \n",
    "    def parent(self, i):\n",
    "        return i >> 1\n",
    "\n",
    "    def left_child(self, i):\n",
    "        return (i << 1) + 1\n",
    "    \n",
    "    def right_child(self, i):\n",
    "        return (i << 1) + 2\n",
    "    \n",
    "    def __max_heapify__(self, i):\n",
    "        largest = i\n",
    "        left = self.left_child(i)\n",
    "        right = self.right_child(i)\n",
    "        n = len(self.data)\n",
    "        largest  = (left < n and self.data[left] > self.data[i]) \\\n",
    "                    and left or i\n",
    "            \n",
    "        largest = (right < n and self.data[right] > self.data[largest])\\\n",
    "                    and right or largest\n",
    "            \n",
    "        if i is not largest:\n",
    "            self.data[i], self.data[largest] = self.data[largest], self.data[i]\n",
    "            self.__max_heapify__(largest)\n",
    "        \n",
    "    \n",
    "    def extract_max(self):\n",
    "        n = len(self.data)\n",
    "        max_element = self.data[0]\n",
    "        self.data[0] = self.data[n - 1]\n",
    "        self.data = self.data[: n-1]\n",
    "        self.__max_heapify__(0)\n",
    "        return max_element\n",
    "\n",
    "    \n",
    "def test_Heapify():\n",
    "    lst = [3,2,5,1,7,8,2]\n",
    "    h = Heapify(lst)\n",
    "    assert(h.extract_max() == 8)"
   ]
  },
  {
   "cell_type": "markdown",
   "metadata": {},
   "source": [
    "### A Class for a Priority Queue\n",
    "\n",
    "Let's see how to use the ***heapq*** package to implement a priority queue class."
   ]
  },
  {
   "cell_type": "code",
   "execution_count": 8,
   "metadata": {
    "collapsed": true
   },
   "outputs": [],
   "source": [
    "# PriorityQueueClass.py\n",
    "\n",
    "import heapq\n",
    "\n",
    "class PriorityQueue(object):\n",
    "    def __init__(self):\n",
    "        self._queue = []\n",
    "        self._index = 0\n",
    "        \n",
    "    def push(self, item, priority):\n",
    "        heapq.heappush(self._queue, (-priority, self._index, item))\n",
    "        self._index += 1\n",
    "        \n",
    "    def pop(self):\n",
    "        return heapq.heappop(self._queue)[-1]\n",
    "    \n",
    "class Item:\n",
    "    def __init__(self, name):\n",
    "        self.name = name\n",
    "        \n",
    "    def __repr__(self):\n",
    "        return \"Item({!r})\".format(self.name)\n",
    "    \n",
    "def test_PriorityQueue():\n",
    "    q = PriorityQueue()\n",
    "    q.push(Item('test1'), 1)\n",
    "    q.push(Item('test2'), 4)\n",
    "    q.push(Item('test3'), 3)\n",
    "    assert(str(q.pop()) == 'Item(\"test2\")')"
   ]
  }
 ],
 "metadata": {
  "kernelspec": {
   "display_name": "Python 3",
   "language": "python",
   "name": "python3"
  },
  "language_info": {
   "codemirror_mode": {
    "name": "ipython",
    "version": 3
   },
   "file_extension": ".py",
   "mimetype": "text/x-python",
   "name": "python",
   "nbconvert_exporter": "python",
   "pygments_lexer": "ipython3",
   "version": "3.6.1"
  }
 },
 "nbformat": 4,
 "nbformat_minor": 2
}
