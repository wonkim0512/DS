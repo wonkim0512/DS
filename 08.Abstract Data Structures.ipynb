{
 "cells": [
  {
   "cell_type": "markdown",
   "metadata": {},
   "source": [
    "# Abstract Data Structures\n",
    "\n",
    "An abstract data type (ADT) is a mathematical model for a certain class of data structures that have similar behavior. Different classes of abstract data types have many different but functionally equivalent data structures that implement them.\n",
    "\n",
    "Data structures can be classified as either contiguous (composed of single slabs of memory) or linked (distinct chunks of memory bound together by pointers). In Python, contiguously-allocated structures include strings, lists, tuples, and dictionaries.\n",
    "\n",
    "In the following sections we will learn how to write abstract data structures, whose can either use Python’s builtin contiguous structures or be made of pointers."
   ]
  },
  {
   "cell_type": "markdown",
   "metadata": {},
   "source": [
    "자료 자체의 형태와 그 자료에 관계된 연산들을 수학적으로만 정의한 것. 따라서 대수학이 다루는 대수적 구조로 볼 수도 있으며, 자료구조가 포함하는 구현 세부사항은 전혀 정의하지 않는다. \n",
    "\n",
    "스택을 예로 들면, 스택의 형태는 삽입한 순서대로 쌓이는 값들의 모임이고, 스택의 제일 위에 값을 넣는 push연산과 스택 제일 위의 값을 하나 빼서 알려주는 pop연산이 있다고 할 수 있다. 여기에 필요하다면 스택이 비었는지 알아보는 empty연산, 스택에 쌓인 값이 몇 개인지 알아보는 size연산을 정의할 수도 있다.\n",
    "\n",
    "이 때, 스택이 내부적으로 배열로 구현되는지 연결 리스트로 구현되는지, size연산을 수행할 때 원소의 개수를 일일히 세는지 아니면 개수를 따로 저장해두는지와 같은 세부사항들은 추상적 자료형에서는 다루지 않으며, 그걸 다루기 시작하면 자료구조의 영역으로 넘어가게 된다. 다만, 경우에 따라 알고리즘에서 요구하는 계산 복잡도, 즉 push연산이 O(1)인지 O(n)인지와 같은 부분을 추가로 다룰 수도 있다.\n",
    "\n",
    "객체 지향 프로그래밍에서의 클래스의 개념과 일맥상통한다고 볼 수도 있다. - [추상적 자료형 by 나무위키](https://namu.wiki/w/%EC%B6%94%EC%83%81%EC%A0%81%20%EC%9E%90%EB%A3%8C%ED%98%95)"
   ]
  },
  {
   "cell_type": "markdown",
   "metadata": {},
   "source": [
    "## 1. Stack\n",
    "\n",
    "A stack is a linear data structure that can be accessed only at one of its ends for either storing or retrieving. You can think\n",
    "of a stack as a huge pile of books on your desk."
   ]
  },
  {
   "cell_type": "markdown",
   "metadata": {},
   "source": [
    "Array access of elements in a stacked is restricted since a stack is a *last-in-first-out* (LIFO) struture. However, stacks have the following operations running at *O(1)*:\n",
    "\n",
    "- push: Insert an item at the top of the stack.\n",
    "- pop: Remove an item from the top of the stack\n",
    "- top/peek: Look up the element on the top.\n",
    "- empty/size: Check whether the stack is empy or return its size."
   ]
  },
  {
   "cell_type": "markdown",
   "metadata": {},
   "source": [
    "Stacks in Python can be implemented with lists and the methods append() and pop():"
   ]
  },
  {
   "cell_type": "code",
   "execution_count": 15,
   "metadata": {},
   "outputs": [
    {
     "name": "stdout",
     "output_type": "stream",
     "text": [
      "6 7\n",
      "7 8\n",
      "8 9\n",
      "9 10\n",
      "10 15\n",
      "19 15\n",
      "18 15\n",
      "17 15\n",
      "16 15\n",
      "15 No min value for empty list\n",
      "Empty list. No min value for empty list\n",
      "Empty list. No min value for empty list\n"
     ]
    }
   ],
   "source": [
    "#Stack\n",
    "class Stack(object):\n",
    "    def __init__(self):\n",
    "        self.content = []\n",
    "        self.min_array = []\n",
    "        self.min = float(\"inf\")\n",
    "        \n",
    "    def push(self, value):\n",
    "        if value < self.min:\n",
    "            self.min = value\n",
    "            \n",
    "        self.content.append(value)\n",
    "        self.min_array.append(self.min)\n",
    "        \n",
    "    def pop(self):\n",
    "        if self.content:\n",
    "            value = self.content.pop()\n",
    "            self.min_array.pop()\n",
    "            \n",
    "            if self.min_array:\n",
    "                self.min = self.min_array[-1]\n",
    "            \n",
    "            return value\n",
    "        \n",
    "        else:\n",
    "            return \"Empty list.\"\n",
    "        \n",
    "    def find_min(self):\n",
    "        if self.min_array:\n",
    "            return self.min_array[-1] \n",
    "        \n",
    "        else:\n",
    "            return \"No min value for empty list\"\n",
    "        \n",
    "    def size(self):\n",
    "        return len(self.content)\n",
    "    \n",
    "    def isEmpty(self):\n",
    "        return not bool(self.content)\n",
    "    \n",
    "    def peek(self):\n",
    "        if self.content:\n",
    "            return self.content[-1]\n",
    "        \n",
    "        else:\n",
    "            print(\"Stack is empty\")\n",
    "        \n",
    "    def __repr__(self):\n",
    "        return \"{}\".format(self.content)\n",
    "\n",
    "if __name__ == \"__main__\":\n",
    "    stack = Stack()\n",
    "    \n",
    "    for i in range(15,20):\n",
    "        stack.push(i)\n",
    "\n",
    "    for i in range(10, 5, -1):\n",
    "        stack.push(i)\n",
    "\n",
    "    for i in range(1, 13):\n",
    "        print(stack.pop(), stack.find_min())"
   ]
  },
  {
   "cell_type": "markdown",
   "metadata": {},
   "source": [
    "Another approach to implement a stack is by thinking of it as a container of nodes (objects) following a LIFO order:"
   ]
  },
  {
   "cell_type": "code",
   "execution_count": 22,
   "metadata": {
    "scrolled": false
   },
   "outputs": [
    {
     "name": "stdout",
     "output_type": "stream",
     "text": [
      "Is the stack empty?  Yes, it is empty.\n",
      "Adding 0 to 10 in the stack...\n",
      "9\n",
      "8\n",
      "7\n",
      "6\n",
      "5\n",
      "4\n",
      "3\n",
      "2\n",
      "1\n",
      "0\n",
      "Stack size:  10\n",
      "Stack peek :  9\n",
      "Pop... 9\n",
      "Stack peek:  8\n",
      "Is the stack empty?  Not empty!\n",
      "8\n",
      "7\n",
      "6\n",
      "5\n",
      "4\n",
      "3\n",
      "2\n",
      "1\n",
      "0\n"
     ]
    }
   ],
   "source": [
    "#linked_stack\n",
    "\n",
    "class Node(object):\n",
    "    def __init__(self, value = None, pointer = None):\n",
    "        self.value = value\n",
    "        self.pointer = pointer\n",
    "        \n",
    "class Stack(object):\n",
    "    def __init__(self):\n",
    "        self.head = None\n",
    "        \n",
    "    def isEmpty(self):\n",
    "        return not bool(self.head)\n",
    "    \n",
    "    def push(self, item):\n",
    "        self.head = Node(item, self.head)\n",
    "        \n",
    "    def pop(self):\n",
    "        if self.head:\n",
    "            node = self.head\n",
    "            self.head = node.pointer\n",
    "            return node.value\n",
    "        \n",
    "        else:\n",
    "            print(\"Stack is empty.\")\n",
    "            \n",
    "    def peek(self):\n",
    "        if self.head:\n",
    "            return self.head.value\n",
    "        \n",
    "        else:\n",
    "            print(\"Stack is empty.\")\n",
    "            \n",
    "    def size(self):\n",
    "        node = self.head\n",
    "        count = 0\n",
    "        while node:\n",
    "            count += 1\n",
    "            node = node.pointer\n",
    "        return count\n",
    "    \n",
    "    def _printList(self):\n",
    "        node = self.head\n",
    "        while node:\n",
    "            print(node.value)\n",
    "            node = node.pointer\n",
    "            \n",
    "if __name__ == \"__main__\":\n",
    "    stack = Stack()\n",
    "    print(\"Is the stack empty? \", \"Yes, it is empty.\" if stack.isEmpty() else 'Not empty!')\n",
    "    print(\"Adding 0 to 10 in the stack...\")\n",
    "    for i in range(10):\n",
    "        stack.push(i)\n",
    "    stack._printList()\n",
    "    print(\"Stack size: \", stack.size())\n",
    "    print(\"Stack peek : \", stack.peek())\n",
    "    print(\"Pop...\", stack.pop())\n",
    "    print(\"Stack peek: \", stack.peek())\n",
    "    print(\"Is the stack empty? \", \"Yes, it is empty.\" if stack.isEmpty() else 'Not empty!')\n",
    "    stack._printList()"
   ]
  },
  {
   "cell_type": "markdown",
   "metadata": {},
   "source": [
    "Stacks are suitable for depth-first traversal algorithms in graphs."
   ]
  },
  {
   "cell_type": "markdown",
   "metadata": {},
   "source": [
    "## 2. Queues"
   ]
  },
  {
   "cell_type": "markdown",
   "metadata": {},
   "source": [
    "A queue is a structure where the first enqueued element(at the back) will be the first one to be dequeued (when it is at the front), being defined as a *first-in-first-out* (FIFO) structure. You can think of a queue as a line of people waiting for a roller-coaster ride."
   ]
  },
  {
   "cell_type": "markdown",
   "metadata": {},
   "source": [
    "Array access of elements in queues is restricted and queues should have the following operations running at O(1):\n",
    "\n",
    "- enqueue: Insert an item at the back of the queue.\n",
    "- depueue: Remove an item from the front of the queue.\n",
    "- peek/front: Retrieve an item at the front of the queue witout removing it.\n",
    "- empty/size: Check whether the queue is empty or give its size."
   ]
  },
  {
   "cell_type": "markdown",
   "metadata": {},
   "source": [
    "Again, we can write a queue class with Python’s lists. However, this will be very inefficient (because it uses the method insert()):"
   ]
  },
  {
   "cell_type": "code",
   "execution_count": 28,
   "metadata": {},
   "outputs": [
    {
     "name": "stdout",
     "output_type": "stream",
     "text": [
      "Is the queue empty?  Yes, it's empty\n",
      "Adding 0 to 10 in the queue...\n",
      "[9, 8, 7, 6, 5, 4, 3, 2, 1, 0]\n",
      "Queue size:  10\n",
      "Queue peek :  0\n",
      "Dequeue... 0\n",
      "Queue peek:  1\n",
      "Is the queue empty?  Not empty!\n",
      "[9, 8, 7, 6, 5, 4, 3, 2, 1]\n"
     ]
    }
   ],
   "source": [
    "# queue_inefficient\n",
    "\n",
    "class Queue(object):\n",
    "    def __init__(self):\n",
    "        self.items = []\n",
    "        \n",
    "    def isEmpty(self):\n",
    "        return not bool(self.items)\n",
    "    \n",
    "    def enqueue(self, item):\n",
    "        self.items.insert(0, item)\n",
    "        \n",
    "    def dequeue(self):\n",
    "        return self.items.pop()\n",
    "    \n",
    "    def size(self):\n",
    "        return len(self.items)\n",
    "    \n",
    "    def peek(self): \n",
    "        return self.items[-1]\n",
    "    \n",
    "    def __repr__(self):\n",
    "        return \"{}\".format(self.items)\n",
    "    \n",
    "if __name__ == \"__main__\":\n",
    "    queue = Queue()\n",
    "    print(\"Is the queue empty? \", \"Yes, it's empty\" if queue.isEmpty() else \"Not empty!\")\n",
    "    print(\"Adding 0 to 10 in the queue...\")\n",
    "    for i in range(10):\n",
    "        queue.enqueue(i)\n",
    "    \n",
    "    print(queue)\n",
    "    print(\"Queue size: \", queue.size())\n",
    "    print(\"Queue peek : \", queue.peek())\n",
    "    print(\"Dequeue...\", queue.dequeue())\n",
    "    print(\"Queue peek: \", queue.peek())\n",
    "    print(\"Is the queue empty? \", \"Yes, it's empty\" if queue.isEmpty() else \"Not empty!\")\n",
    "    print(queue)"
   ]
  },
  {
   "cell_type": "markdown",
   "metadata": {},
   "source": [
    "A better way would write a queue using two stacks (two lists) instead of one:"
   ]
  },
  {
   "cell_type": "code",
   "execution_count": 35,
   "metadata": {},
   "outputs": [
    {
     "name": "stdout",
     "output_type": "stream",
     "text": [
      "Is the queue empty?  Yes, it's empty\n",
      "Adding 0 to 10 in the queue...\n",
      "[9, 8, 7, 6, 5, 4, 3, 2, 1, 0]\n",
      "Queue size:  10\n",
      "Queue peek :  0\n",
      "Dequeue... 0\n",
      "Queue peek:  1\n",
      "Is the queue empty?  Not empty!\n",
      "Printing the queue...\n",
      "[9, 8, 7, 6, 5, 4, 3, 2, 1]\n"
     ]
    }
   ],
   "source": [
    "# queue\n",
    "\n",
    "class Queue(object):\n",
    "    def __init__(self):\n",
    "        self.in_stack = []\n",
    "        self.out_stack = []\n",
    "        \n",
    "    def _transfer(self):\n",
    "        while self.in_stack:\n",
    "            self.out_stack.append(self.in_stack.pop())\n",
    "            \n",
    "    def enqueue(self, item):\n",
    "        return self.in_stack.append(item)\n",
    "    \n",
    "    def dequeue(self):\n",
    "        if not self.out_stack:\n",
    "            self._transfer()\n",
    "        \n",
    "        if self.out_stack:\n",
    "            return self.out_stack.pop()\n",
    "        \n",
    "        else:\n",
    "            return \"Queue empty!\"\n",
    "        \n",
    "    def size(self):\n",
    "        return len(self.in_stack) + len(self.out_stack)\n",
    "    \n",
    "    def peek(self):\n",
    "        if not self.out_stack:\n",
    "            self._transfer\n",
    "            \n",
    "        if self.out_stack:\n",
    "            return self.out_stack[-1]\n",
    "        \n",
    "        else:\n",
    "            return \"Queue empty!\"\n",
    "        \n",
    "    def isEmpty(self):\n",
    "        return not (bool(self.in_stack) or bool(self.out_stack))\n",
    "        \n",
    "    def __repr__(self):\n",
    "        if not self.out_stack:\n",
    "            self._transfer()\n",
    "            \n",
    "        if self.out_stack:\n",
    "            return \"{}\".format(self.out_stack)\n",
    "        \n",
    "        else:\n",
    "            return \"Queue empty!\"\n",
    "        \n",
    "if __name__ == \"__main__\":\n",
    "    queue = Queue()\n",
    "    print(\"Is the queue empty? \", \"Yes, it's empty\" if queue.isEmpty() else \"Not empty!\")\n",
    "    print(\"Adding 0 to 10 in the queue...\")\n",
    "    for i in range(10):\n",
    "        queue.enqueue(i)\n",
    "    print(queue)\n",
    "    print(\"Queue size: \", queue.size())\n",
    "    print(\"Queue peek : \", queue.peek())\n",
    "    print(\"Dequeue...\", queue.dequeue())\n",
    "    print(\"Queue peek: \", queue.peek())\n",
    "    print(\"Is the queue empty? \", \"Yes, it's empty\" if queue.isEmpty() else \"Not empty!\")\n",
    "    print(\"Printing the queue...\")\n",
    "    print(queue)"
   ]
  },
  {
   "cell_type": "markdown",
   "metadata": {},
   "source": [
    "Another approach is to implement a queue as a container for nodes, as we have done for stacks, but now the nodes are inserted and removed in a FIFO order:"
   ]
  },
  {
   "cell_type": "code",
   "execution_count": 40,
   "metadata": {
    "scrolled": true
   },
   "outputs": [
    {
     "name": "stdout",
     "output_type": "stream",
     "text": [
      "Is the queue empty?  Yes, it's empty\n",
      "Adding 0 to 10 in the queue...\n",
      "Queue size:  10\n",
      "Queue peek :  0\n",
      "Dequeue... 0\n",
      "Queue peek:  1\n",
      "Is the queue empty?  Not empty!\n",
      "Printing the queue...\n"
     ]
    }
   ],
   "source": [
    "# linked_queue\n",
    "class Node(object):\n",
    "    def __init__(self, value = None, pointer = None):\n",
    "        self.value = value\n",
    "        self.pointer = pointer\n",
    "        \n",
    "class LinkedQueue(object):\n",
    "    def __init__(self):\n",
    "        self.head = None\n",
    "        self.tail = None\n",
    "        \n",
    "    def isEmpty(self):\n",
    "        return not bool(self.head)\n",
    "    \n",
    "    def dequeue(self):\n",
    "        if self.head:\n",
    "            value = self.head.value\n",
    "            self.head = self.head.pointer\n",
    "            return value\n",
    "            \n",
    "        else:\n",
    "            print(\"Cannot dequeue because queue is empty.\")\n",
    "            \n",
    "    def enqueue(self, value):\n",
    "        node = Node(value)\n",
    "        if not self.head:\n",
    "            self.head = node\n",
    "            self.tail = node\n",
    "            \n",
    "        else:\n",
    "            if self.tail:\n",
    "                self.tail.pointer = node\n",
    "            self.tail = node\n",
    "            \n",
    "    def size(self):\n",
    "        node = self.head\n",
    "        num_nodes = 0\n",
    "        while node:\n",
    "            num_nodes += 1\n",
    "            node = node.pointer\n",
    "            \n",
    "        return num_nodes\n",
    "    \n",
    "    def peek(self):\n",
    "        return self.head.value\n",
    "    \n",
    "    def _print(self):\n",
    "        node = self.head\n",
    "        while node:\n",
    "            print(node.value)\n",
    "            node = node.pointer\n",
    "            \n",
    "if __name__ == \"__main__\":\n",
    "    queue = LinkedQueue()\n",
    "    print(\"Is the queue empty? \", \"Yes, it's empty\" if queue.isEmpty() else \"Not empty!\")\n",
    "    print(\"Adding 0 to 10 in the queue...\")\n",
    "    for i in range(10):\n",
    "        queue.enqueue(i)\n",
    "    queue._print\n",
    "    print(\"Queue size: \", queue.size())\n",
    "    print(\"Queue peek : \", queue.peek())\n",
    "    print(\"Dequeue...\", queue.dequeue())\n",
    "    print(\"Queue peek: \", queue.peek())\n",
    "    print(\"Is the queue empty? \", \"Yes, it's empty\" if queue.isEmpty() else \"Not empty!\")\n",
    "    print(\"Printing the queue...\")\n",
    "    queue._print"
   ]
  },
  {
   "cell_type": "markdown",
   "metadata": {},
   "source": [
    "Queues are necessary for breath-first traversal algorithms for graphs."
   ]
  },
  {
   "cell_type": "markdown",
   "metadata": {},
   "source": [
    "### Deques\n",
    "A deque is a double-ended queue, which can roughly be seen as an union of a stack and a queue. Python has an efficient deque implementation, with fast appending and popping from both ends:"
   ]
  },
  {
   "cell_type": "code",
   "execution_count": 49,
   "metadata": {},
   "outputs": [
    {
     "data": {
      "text/plain": [
       "deque(['Irene Choi', 'David', 'Aaron', 'Won Kim'])"
      ]
     },
     "execution_count": 49,
     "metadata": {},
     "output_type": "execute_result"
    }
   ],
   "source": [
    "from collections import deque\n",
    "\n",
    "q = deque(['Won', 'David', 'Aaron'])\n",
    "q.append(\"Irene\") # deque(['Won', 'David', 'Aaron', 'Irene'])\n",
    "q.popleft() # 'Won'\n",
    "q.pop() # 'Irene'\n",
    "q.appendleft(\"Irene Choi\") # deque(['Irene Choi', 'David', 'Aaron'])\n",
    "q.append(\"Won Kim\")\n",
    "q"
   ]
  },
  {
   "cell_type": "markdown",
   "metadata": {},
   "source": [
    "Interestingly, deques in Python are based on a ***doubly linked list***, not in dynamic arrays. It means that operations such as inserting an item anywhere are fast (*O(1)*), but arbitrary index accessing are slow (*O(n)*)."
   ]
  },
  {
   "cell_type": "markdown",
   "metadata": {},
   "source": [
    "## more to think - 2017/08/23\n",
    "- peek의 의미는?\n",
    "> stack과 queue에서 peek의 의미를 잘 모르겠음. 왜냐하면 queue에서 peek면 가장 나중에 들어온 얘여야 하는거 아닌가?\n",
    "\n",
    "- linked stack과 queue의 차이 명확히 하기\n",
    "- linked queue의 enqueue 명확히 하기"
   ]
  }
 ],
 "metadata": {
  "kernelspec": {
   "display_name": "Python 3",
   "language": "python",
   "name": "python3"
  },
  "language_info": {
   "codemirror_mode": {
    "name": "ipython",
    "version": 3
   },
   "file_extension": ".py",
   "mimetype": "text/x-python",
   "name": "python",
   "nbconvert_exporter": "python",
   "pygments_lexer": "ipython3",
   "version": "3.6.1"
  }
 },
 "nbformat": 4,
 "nbformat_minor": 2
}
